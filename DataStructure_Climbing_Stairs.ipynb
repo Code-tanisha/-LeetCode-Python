{
  "nbformat": 4,
  "nbformat_minor": 0,
  "metadata": {
    "colab": {
      "name": "DataStructure Climbing Stairs.ipynb",
      "provenance": [],
      "authorship_tag": "ABX9TyMru8WqRMKn3oXrZfHgkn6+",
      "include_colab_link": true
    },
    "kernelspec": {
      "name": "python3",
      "display_name": "Python 3"
    }
  },
  "cells": [
    {
      "cell_type": "markdown",
      "metadata": {
        "id": "view-in-github",
        "colab_type": "text"
      },
      "source": [
        "<a href=\"https://colab.research.google.com/github/Code-tanisha/-LeetCode-Python/blob/master/DataStructure_Climbing_Stairs.ipynb\" target=\"_parent\"><img src=\"https://colab.research.google.com/assets/colab-badge.svg\" alt=\"Open In Colab\"/></a>"
      ]
    },
    {
      "cell_type": "markdown",
      "metadata": {
        "id": "HTI7862X8y1k"
      },
      "source": [
        "You are climbing a staircase. It takes n steps to reach the top.\r\n",
        "\r\n",
        "Each time you can either climb 1 or 2 steps. In how many distinct ways can you climb to the top?\r\n",
        "\r\n",
        " \r\n",
        "\r\n",
        "Example 1:\r\n",
        "\r\n",
        "Input: n = 2\r\n",
        "Output: 2\r\n",
        "Explanation: There are two ways to climb to the top.\r\n",
        "1. 1 step + 1 step\r\n",
        "2. 2 steps\r\n",
        "Example 2:\r\n",
        "\r\n",
        "Input: n = 3\r\n",
        "Output: 3\r\n",
        "Explanation: There are three ways to climb to the top.\r\n",
        "1. 1 step + 1 step + 1 step\r\n",
        "2. 1 step + 2 steps\r\n",
        "3. 2 steps + 1 step"
      ]
    },
    {
      "cell_type": "code",
      "metadata": {
        "colab": {
          "base_uri": "https://localhost:8080/"
        },
        "id": "dIApGsvO80yC",
        "outputId": "cb5495fd-d93a-4881-c3d1-fd5e926fafe9"
      },
      "source": [
        "class Solution(object):\r\n",
        "    def climbStairs(self, n):\r\n",
        "      if n <= 1:\r\n",
        "        return 1\r\n",
        "      f = []\r\n",
        "      f.append(1)\r\n",
        "      f.append(2)\r\n",
        "      for i in range(2,n):  #2 to n coz for 0 and 1th step it will take 1 way to reach to the top and so will             start from 2 to nth step \r\n",
        "        f.append(f[i-1] + f[i-2])\r\n",
        "      return f[n-1]\r\n",
        "\r\n",
        "x = Solution()\r\n",
        "print(x.climbStairs(3))\r\n",
        "\r\n"
      ],
      "execution_count": 16,
      "outputs": [
        {
          "output_type": "stream",
          "text": [
            "3\n"
          ],
          "name": "stdout"
        }
      ]
    }
  ]
}