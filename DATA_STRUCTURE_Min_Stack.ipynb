{
  "nbformat": 4,
  "nbformat_minor": 0,
  "metadata": {
    "colab": {
      "name": "DATA STRUCTURE Min Stack.ipynb",
      "provenance": [],
      "authorship_tag": "ABX9TyNSVpkJGz0p17LN9Bs+2juE",
      "include_colab_link": true
    },
    "kernelspec": {
      "name": "python3",
      "display_name": "Python 3"
    }
  },
  "cells": [
    {
      "cell_type": "markdown",
      "metadata": {
        "id": "view-in-github",
        "colab_type": "text"
      },
      "source": [
        "<a href=\"https://colab.research.google.com/github/Code-tanisha/-LeetCode-Python/blob/master/DATA_STRUCTURE_Min_Stack.ipynb\" target=\"_parent\"><img src=\"https://colab.research.google.com/assets/colab-badge.svg\" alt=\"Open In Colab\"/></a>"
      ]
    },
    {
      "cell_type": "markdown",
      "metadata": {
        "id": "Y6WO5mT5ld62"
      },
      "source": [
        "Design a stack that supports push, pop, top, and retrieving the minimum element in constant time.\r\n",
        "\r\n",
        "push(x) -- Push element x onto stack.\r\n",
        "pop() -- Removes the element on top of the stack.\r\n",
        "top() -- Get the top element.\r\n",
        "getMin() -- Retrieve the minimum element in the stack.\r\n",
        " \r\n",
        "\r\n",
        "Example 1:\r\n",
        "\r\n",
        "Input\r\n",
        "[\"MinStack\",\"push\",\"push\",\"push\",\"getMin\",\"pop\",\"top\",\"getMin\"]\r\n",
        "[[],[-2],[0],[-3],[],[],[],[]]\r\n",
        "\r\n",
        "Output\r\n",
        "[null,null,null,null,-3,null,0,-2]\r\n",
        "\r\n",
        "Explanation\r\n",
        "MinStack minStack = new MinStack();\r\n",
        "minStack.push(-2);\r\n",
        "minStack.push(0);\r\n",
        "minStack.push(-3);\r\n",
        "minStack.getMin(); // return -3\r\n",
        "minStack.pop();\r\n",
        "minStack.top();    // return 0\r\n",
        "minStack.getMin(); // return -2\r\n",
        " \r\n",
        "\r\n",
        "Constraints:\r\n",
        "\r\n",
        "Methods pop, top and getMin operations will always be called on non-empty stacks."
      ]
    },
    {
      "cell_type": "code",
      "metadata": {
        "colab": {
          "base_uri": "https://localhost:8080/"
        },
        "id": "X796Cryz50IW",
        "outputId": "389ce47e-6dbb-445b-aeec-dac3447fba21"
      },
      "source": [
        "class MinStack(object):\r\n",
        "\r\n",
        "    def __init__(self):\r\n",
        "        \"\"\"\r\n",
        "        initialize your data structure here.\r\n",
        "        algorithm: non_asc stack keeps the items of the normal stack if they are in non-ascending order\r\n",
        "        normal stack: 5 4 3 5 4 3 2 1\r\n",
        "        non-asc stack: 5 4 3 3 2 1\r\n",
        "        when push: check whether in non-ascending order\r\n",
        "        when pop: check whether in non-asc stack, if yes, pop it out from non-asc stack also\r\n",
        "        if maintain the non_asc stack in this way, the non-ssc stack always keeps the non-ascending items of the normal\r\n",
        "        stack\r\n",
        "        :return:\r\n",
        "        self.stk = []\r\n",
        "        self.non_asc = []\r\n",
        "        \"\"\"\r\n",
        "\r\n",
        "        self.stk = []\r\n",
        "        self.non_asc = []\r\n",
        "        \r\n",
        "\r\n",
        "    def push(self, x):\r\n",
        "        \"\"\"\r\n",
        "        :type x: int\r\n",
        "        :rtype: None\r\n",
        "        \"\"\"\r\n",
        "        self.stk.append(x)\r\n",
        "        if len(self.non_asc) == 0 or x <= self.non_asc[-1]:\r\n",
        "          self.non_asc.append(x)\r\n",
        "\r\n",
        "    def pop(self):\r\n",
        "        \"\"\"\r\n",
        "        :rtype: None\r\n",
        "        \"\"\"\r\n",
        "        x = self.stk.pop()\r\n",
        "        if x == self.non_asc[-1]:\r\n",
        "          self.non_asc.pop()\r\n",
        "\r\n",
        "    def top(self):\r\n",
        "        \"\"\"\r\n",
        "        :rtype: int\r\n",
        "        \"\"\"\r\n",
        "        return self.stk[-1]\r\n",
        "        \r\n",
        "\r\n",
        "    def getMin(self):\r\n",
        "        \"\"\"\r\n",
        "        :rtype: int\r\n",
        "        \"\"\"\r\n",
        "        return self.non_asc[-1]\r\n",
        "\r\n",
        "minStack = MinStack();\r\n",
        "minStack.push(-2)\r\n",
        "minStack.push(0)\r\n",
        "minStack.push(-3)\r\n",
        "minStack.getMin()\r\n",
        "minStack.pop()\r\n",
        "minStack.top()      #return 0\r\n",
        "minStack.getMin()"
      ],
      "execution_count": 8,
      "outputs": [
        {
          "output_type": "execute_result",
          "data": {
            "text/plain": [
              "-2"
            ]
          },
          "metadata": {
            "tags": []
          },
          "execution_count": 8
        }
      ]
    }
  ]
}